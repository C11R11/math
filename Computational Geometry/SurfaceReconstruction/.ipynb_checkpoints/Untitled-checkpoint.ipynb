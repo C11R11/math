{
 "cells": [
  {
   "cell_type": "code",
   "execution_count": 3,
   "id": "c0ddb372-610d-4d4d-9fdf-b6c3059e90b5",
   "metadata": {},
   "outputs": [],
   "source": [
    "import open3d as o3d\n",
    "import numpy as np"
   ]
  },
  {
   "cell_type": "code",
   "execution_count": 4,
   "id": "170d4781-c482-419c-8f25-664955d837c8",
   "metadata": {},
   "outputs": [],
   "source": [
    "bunny = o3d.data.BunnyMesh()\n",
    "gt_mesh = o3d.io.read_triangle_mesh(bunny.path)\n",
    "gt_mesh.compute_vertex_normals()\n",
    "\n",
    "pcd = gt_mesh.sample_points_poisson_disk(3000)\n",
    "\n",
    "radii = [0.005, 0.01, 0.02, 0.04]\n",
    "rec_mesh = o3d.geometry.TriangleMesh.create_from_point_cloud_ball_pivoting(\n",
    "    pcd, o3d.utility.DoubleVector(radii))\n",
    "o3d.visualization.draw_geometries([pcd, rec_mesh], mesh_show_wireframe = True)"
   ]
  },
  {
   "cell_type": "code",
   "execution_count": null,
   "id": "da7df971-6f94-4cc5-8f84-a87c0c1620d9",
   "metadata": {},
   "outputs": [],
   "source": []
  },
  {
   "cell_type": "code",
   "execution_count": null,
   "id": "ce5e43c0-7a7c-4317-bf28-306a077c492e",
   "metadata": {},
   "outputs": [],
   "source": [
    "csv = \"ext_array.csv\"\n",
    "df = pd.read_csv(csv)\n",
    "\n",
    "x = df.to_numpy()"
   ]
  }
 ],
 "metadata": {
  "kernelspec": {
   "display_name": "Python 3 (ipykernel)",
   "language": "python",
   "name": "python3"
  },
  "language_info": {
   "codemirror_mode": {
    "name": "ipython",
    "version": 3
   },
   "file_extension": ".py",
   "mimetype": "text/x-python",
   "name": "python",
   "nbconvert_exporter": "python",
   "pygments_lexer": "ipython3",
   "version": "3.9.13"
  }
 },
 "nbformat": 4,
 "nbformat_minor": 5
}
