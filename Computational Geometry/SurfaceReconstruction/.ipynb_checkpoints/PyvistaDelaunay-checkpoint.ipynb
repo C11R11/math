{
 "cells": [
  {
   "cell_type": "markdown",
   "id": "467ad530-7547-46d1-ab3a-9d5bf9d254cf",
   "metadata": {},
   "source": [
    "#Pyvista\n",
    "\n",
    "https://stackoverflow.com/questions/54898657/i-want-to-generate-a-mesh-from-a-point-cloud-in-python"
   ]
  },
  {
   "cell_type": "code",
   "execution_count": 25,
   "id": "1f2c0d1b-1913-44d2-87b3-0135beabd0c4",
   "metadata": {},
   "outputs": [],
   "source": [
    "import numpy as np\n",
    "import pyvista as pv\n",
    "import pandas as pd\n",
    "\n",
    "\"\"\"\n",
    "Gets the bounds configuration to make a PyVista 3d box\n",
    "returns: bounding box of the cube. (xMin, xMax, yMin, yMax, zMin, zMax)\n",
    "\"\"\"\n",
    "def getBoxPointsBounds(centroid):\n",
    "    spacing = 10\n",
    "    bounds_min = centroid - spacing * 0.5\n",
    "    bounds_max = centroid + spacing * 0.5\n",
    "    return np.array([bounds_min[0], bounds_max[0], bounds_min[1], bounds_max[1], bounds_min[2], bounds_max[2]])\n",
    "\n",
    "def getCubeCorners(center):\n",
    "    bounds = getBoxPointsBounds(center)\n",
    "    mesh = pv.Box(level=0, bounds=(bounds[0], bounds[1], bounds[2], bounds[3], bounds[4], bounds[5]))\n",
    "    return mesh.points\n",
    "\n",
    "#Testing function\n",
    "#points = getCubeCorners(np.array([15,5,595]))\n",
    "#points"
   ]
  },
  {
   "cell_type": "code",
   "execution_count": 29,
   "id": "a0eed424-38ce-40b9-9f95-9c8ab4735833",
   "metadata": {},
   "outputs": [
    {
     "name": "stdout",
     "output_type": "stream",
     "text": [
      "[[ 10.   0. 590.]\n",
      " [ 20.   0. 590.]\n",
      " [ 10.  10. 590.]\n",
      " [ 20.  10. 590.]\n",
      " [ 10.   0. 600.]\n",
      " [ 20.   0. 600.]\n",
      " [ 10.  10. 600.]\n",
      " [ 20.  10. 600.]\n",
      " [  0.  10. 590.]\n",
      " [ 10.  10. 590.]\n",
      " [  0.  20. 590.]\n",
      " [ 10.  20. 590.]\n",
      " [  0.  10. 600.]\n",
      " [ 10.  10. 600.]\n",
      " [  0.  20. 600.]\n",
      " [ 10.  20. 600.]\n",
      " [ 20.   0. 590.]\n",
      " [ 30.   0. 590.]\n",
      " [ 20.  10. 590.]\n",
      " [ 30.  10. 590.]\n",
      " [ 20.   0. 600.]\n",
      " [ 30.   0. 600.]\n",
      " [ 20.  10. 600.]\n",
      " [ 30.  10. 600.]\n",
      " [ 30.   0. 590.]\n",
      " [ 40.   0. 590.]\n",
      " [ 30.  10. 590.]\n",
      " [ 40.  10. 590.]\n",
      " [ 30.   0. 600.]\n",
      " [ 40.   0. 600.]\n",
      " [ 30.  10. 600.]\n",
      " [ 40.  10. 600.]\n",
      " [ 40.   0. 590.]\n",
      " [ 50.   0. 590.]\n",
      " [ 40.  10. 590.]\n",
      " [ 50.  10. 590.]\n",
      " [ 40.   0. 600.]\n",
      " [ 50.   0. 600.]\n",
      " [ 40.  10. 600.]\n",
      " [ 50.  10. 600.]\n",
      " [ 40.  10. 590.]\n",
      " [ 50.  10. 590.]\n",
      " [ 40.  20. 590.]\n",
      " [ 50.  20. 590.]\n",
      " [ 40.  10. 600.]\n",
      " [ 50.  10. 600.]\n",
      " [ 40.  20. 600.]\n",
      " [ 50.  20. 600.]\n",
      " [230.   0. 590.]\n",
      " [240.   0. 590.]\n",
      " [230.  10. 590.]\n",
      " [240.  10. 590.]\n",
      " [230.   0. 600.]\n",
      " [240.   0. 600.]\n",
      " [230.  10. 600.]\n",
      " [240.  10. 600.]\n",
      " [230.  10. 590.]\n",
      " [240.  10. 590.]\n",
      " [230.  20. 590.]\n",
      " [240.  20. 590.]\n",
      " [230.  10. 600.]\n",
      " [240.  10. 600.]\n",
      " [230.  20. 600.]\n",
      " [240.  20. 600.]\n",
      " [240.   0. 590.]\n",
      " [250.   0. 590.]\n",
      " [240.  10. 590.]\n",
      " [250.  10. 590.]\n",
      " [240.   0. 600.]\n",
      " [250.   0. 600.]\n",
      " [240.  10. 600.]\n",
      " [250.  10. 600.]\n",
      " [240.  10. 590.]\n",
      " [250.  10. 590.]\n",
      " [240.  20. 590.]\n",
      " [250.  20. 590.]\n",
      " [240.  10. 600.]\n",
      " [250.  10. 600.]\n",
      " [240.  20. 600.]\n",
      " [250.  20. 600.]\n",
      " [  0.  20. 590.]\n",
      " [ 10.  20. 590.]\n",
      " [  0.  30. 590.]\n",
      " [ 10.  30. 590.]\n",
      " [  0.  20. 600.]\n",
      " [ 10.  20. 600.]\n",
      " [  0.  30. 600.]\n",
      " [ 10.  30. 600.]\n",
      " [  0.  30. 590.]\n",
      " [ 10.  30. 590.]\n",
      " [  0.  40. 590.]\n",
      " [ 10.  40. 590.]\n",
      " [  0.  30. 600.]\n",
      " [ 10.  30. 600.]\n",
      " [  0.  40. 600.]\n",
      " [ 10.  40. 600.]\n",
      " [ 40.  20. 590.]\n",
      " [ 50.  20. 590.]\n",
      " [ 40.  30. 590.]\n",
      " [ 50.  30. 590.]\n",
      " [ 40.  20. 600.]\n",
      " [ 50.  20. 600.]\n",
      " [ 40.  30. 600.]\n",
      " [ 50.  30. 600.]\n",
      " [ 40.  30. 590.]\n",
      " [ 50.  30. 590.]\n",
      " [ 40.  40. 590.]\n",
      " [ 50.  40. 590.]\n",
      " [ 40.  30. 600.]\n",
      " [ 50.  30. 600.]\n",
      " [ 40.  40. 600.]\n",
      " [ 50.  40. 600.]\n",
      " [230.  20. 590.]\n",
      " [240.  20. 590.]\n",
      " [230.  30. 590.]\n",
      " [240.  30. 590.]\n",
      " [230.  20. 600.]\n",
      " [240.  20. 600.]\n",
      " [230.  30. 600.]\n",
      " [240.  30. 600.]\n",
      " [240.  20. 590.]\n",
      " [250.  20. 590.]\n",
      " [240.  30. 590.]\n",
      " [250.  30. 590.]\n",
      " [240.  20. 600.]\n",
      " [250.  20. 600.]\n",
      " [240.  30. 600.]\n",
      " [250.  30. 600.]\n",
      " [  0.  40. 590.]\n",
      " [ 10.  40. 590.]\n",
      " [  0.  50. 590.]\n",
      " [ 10.  50. 590.]\n",
      " [  0.  40. 600.]\n",
      " [ 10.  40. 600.]\n",
      " [  0.  50. 600.]\n",
      " [ 10.  50. 600.]\n",
      " [  0.  50. 590.]\n",
      " [ 10.  50. 590.]\n",
      " [  0.  60. 590.]\n",
      " [ 10.  60. 590.]\n",
      " [  0.  50. 600.]\n",
      " [ 10.  50. 600.]\n",
      " [  0.  60. 600.]\n",
      " [ 10.  60. 600.]\n",
      " [ 40.  40. 590.]\n",
      " [ 50.  40. 590.]\n",
      " [ 40.  50. 590.]\n",
      " [ 50.  50. 590.]\n",
      " [ 40.  40. 600.]\n",
      " [ 50.  40. 600.]\n",
      " [ 40.  50. 600.]\n",
      " [ 50.  50. 600.]\n",
      " [ 40.  50. 590.]\n",
      " [ 50.  50. 590.]\n",
      " [ 40.  60. 590.]\n",
      " [ 50.  60. 590.]\n",
      " [ 40.  50. 600.]\n",
      " [ 50.  50. 600.]\n",
      " [ 40.  60. 600.]\n",
      " [ 50.  60. 600.]]\n"
     ]
    },
    {
     "data": {
      "application/vnd.jupyter.widget-view+json": {
       "model_id": "86aea46185054a39b0ec31b650e19ddc",
       "version_major": 2,
       "version_minor": 0
      },
      "text/plain": [
       "ViewInteractiveWidget(height=768, layout=Layout(height='auto', width='100%'), width=1024)"
      ]
     },
     "metadata": {},
     "output_type": "display_data"
    }
   ],
   "source": [
    "csv = \"ext_array.csv\"\n",
    "df = pd.read_csv(csv)\n",
    "\n",
    "x = df[0:20].to_numpy()\n",
    "\n",
    "boxes = []\n",
    "\n",
    "for point in x:\n",
    "    points = getCubeCorners(point)\n",
    "    #print(points)\n",
    "    for p in points:\n",
    "        boxes.append(p)\n",
    "    \n",
    "x = np.array(boxes)\n",
    "#boxes, type(boxes), np.array(boxes).shape, x\n",
    "\n",
    "# points is a 3D numpy array (n_points, 3) coordinates of a sphere\n",
    "cloud = pv.PolyData(x)\n",
    "#print(cloud.points)\n",
    "cloud.plot(point_size=4, color = \"red\")"
   ]
  },
  {
   "cell_type": "code",
   "execution_count": 30,
   "id": "0398a90d-0ba7-4972-b594-1b502c9bed63",
   "metadata": {},
   "outputs": [
    {
     "data": {
      "application/vnd.jupyter.widget-view+json": {
       "model_id": "cf60b06b7a0442a5a1d774a3971cdca4",
       "version_major": 2,
       "version_minor": 0
      },
      "text/plain": [
       "ViewInteractiveWidget(height=768, layout=Layout(height='auto', width='100%'), width=1024)"
      ]
     },
     "metadata": {},
     "output_type": "display_data"
    },
    {
     "data": {
      "application/vnd.jupyter.widget-view+json": {
       "model_id": "bad5951af58e4e9c89cbc9ded3922537",
       "version_major": 2,
       "version_minor": 0
      },
      "text/plain": [
       "ViewInteractiveWidget(height=768, layout=Layout(height='auto', width='100%'), width=1024)"
      ]
     },
     "metadata": {},
     "output_type": "display_data"
    }
   ],
   "source": [
    "'''\n",
    "alphafloat, optional\n",
    "Distance value to control output of this filter. For a non-zero alpha value, only vertices, edges, faces, or tetrahedra contained within the circumsphere (of radius alpha) will be output. Otherwise, only tetrahedra will be output.\n",
    "\n",
    "tol float, optional\n",
    "Tolerance to control discarding of closely spaced points. This tolerance is specified as a fraction of the diagonal length of the bounding box of the points.\n",
    "\n",
    "offset float, optional\n",
    "Multiplier to control the size of the initial, bounding Delaunay triangulation.\n",
    "\n",
    "progress_bar bool, optional\n",
    "Display a progress bar to indicate progress.\n",
    "'''\n",
    "\n",
    "volume = cloud.delaunay_3d(tol=3, alpha=9, offset=5)\n",
    "shell = volume.extract_geometry()\n",
    "type(shell)\n",
    "shell.plot(show_edges=True)\n",
    "\n",
    "pl = pv.Plotter()\n",
    "pl.add_mesh(shell, show_edges=False, use_transparency=True)\n",
    "pl.add_points(cloud, color = \"red\")\n",
    "pl.camera_position = 'yx'\n",
    "pl.camera.zoom(1.2)\n",
    "pl.show()"
   ]
  },
  {
   "cell_type": "code",
   "execution_count": null,
   "id": "a2b35622-f33b-4762-aaa1-f6a567ca42b7",
   "metadata": {},
   "outputs": [],
   "source": [
    "surf = cloud.delaunay_2d()\n",
    "print(surf)\n",
    "surf.plot(show_edges=True)"
   ]
  },
  {
   "cell_type": "code",
   "execution_count": null,
   "id": "4deeae7a-135f-4872-b731-823468736b87",
   "metadata": {},
   "outputs": [],
   "source": [
    "surf = cloud.reconstruct_surface(sample_spacing=10, nbr_sz = 10)\n",
    "pl = pv.Plotter()\n",
    "pl.add_points(cloud, color=(255,0,0))\n",
    "pl.add_mesh(surf, show_edges=True)\n",
    "pl.show()"
   ]
  },
  {
   "cell_type": "code",
   "execution_count": null,
   "id": "f4579536-3ee1-424b-88bd-8023e7c66ffe",
   "metadata": {},
   "outputs": [],
   "source": [
    "import numpy as np\n",
    "\n",
    "import pyvista as pv\n",
    "\n",
    "# Create an array of points\n",
    "points = np.array(\n",
    "    [\n",
    "        [1.0, 0.0, 0.0],\n",
    "        [0.0, 0.0, 0.0],\n",
    "        [1.0, 1.0, 0.0],\n",
    "        [0.0, 1.0, 0.0],\n",
    "        [1.0, 2.0, 0.0],\n",
    "        [0.0, 2.0, 0.0],\n",
    "        [1.0, 3.0, 0.0],\n",
    "        [0.0, 3.0, 0.0],\n",
    "    ]\n",
    ")\n",
    "\n",
    "strips = np.array([8, 0, 1, 2, 3, 4, 5, 6, 7])\n",
    "\n",
    "\n",
    "# build the mesh\n",
    "mesh = pv.PolyData(points, strips=strips)\n",
    "#mesh.plot()\n",
    "\n",
    "pl = pv.Plotter()\n",
    "pl.add_mesh(mesh, show_edges=True)\n",
    "pl.add_point_labels(mesh.points, range(mesh.n_points))\n",
    "pl.camera_position = 'yx'\n",
    "pl.camera.zoom(1.2)\n",
    "pl.show()\n"
   ]
  },
  {
   "cell_type": "code",
   "execution_count": null,
   "id": "c24a7c2f-061b-484c-ba48-1afa48c74fd9",
   "metadata": {},
   "outputs": [],
   "source": []
  },
  {
   "cell_type": "code",
   "execution_count": null,
   "id": "a30bca78-799d-41e4-82ff-44b41ccdb2e1",
   "metadata": {},
   "outputs": [],
   "source": [
    "import pyvista\n",
    "sphere = pyvista.Sphere(theta_resolution=5, phi_resolution=5)\n",
    "grid = sphere.delaunay_3d()\n",
    "edges = grid.extract_all_edges()\n",
    "edges.plot(line_width=1, color='k')"
   ]
  },
  {
   "cell_type": "code",
   "execution_count": null,
   "id": "83797cf7-0f92-483c-ad2b-354c4314d7fb",
   "metadata": {},
   "outputs": [],
   "source": [
    "\n",
    "    "
   ]
  },
  {
   "cell_type": "code",
   "execution_count": null,
   "id": "cbc106e5-2c7b-4ad4-a536-9ef28f8c63be",
   "metadata": {},
   "outputs": [],
   "source": [
    "import pyvista\n",
    "center = np.array([0,0,0])\n",
    "#bounds_min = center - spacing * 0.5\n",
    "#bounds_max = center + spacing * 0.5\n",
    "\n",
    "bounds = getBoxPointsBounds(center)"
   ]
  },
  {
   "cell_type": "code",
   "execution_count": null,
   "id": "47948fbe-5b95-4ab7-a623-472768b8ce37",
   "metadata": {},
   "outputs": [],
   "source": [
    "bounds_min, bounds_max"
   ]
  },
  {
   "cell_type": "code",
   "execution_count": null,
   "id": "da0aadc8-fd26-4e35-9fcb-8d948ac9fc8a",
   "metadata": {},
   "outputs": [],
   "source": []
  },
  {
   "cell_type": "code",
   "execution_count": null,
   "id": "1bbadd12-3f23-487c-b03a-89d9fcceb291",
   "metadata": {},
   "outputs": [],
   "source": [
    "\n",
    "mesh = pyvista.Box(level=0, bounds=(bounds[0], bounds[1], bounds[2], bounds[3], bounds[4], bounds[4]))\n",
    "\n",
    "#mesh.plot(show_edges=True)\n",
    "\n",
    "pl = pv.Plotter()\n",
    "pl.add_mesh(mesh, show_edges=True)\n",
    "pl.add_points(mesh.points, color='red')\n",
    "#pl.add_point_labels(mesh.points, range(mesh.n_points))\n",
    "#pl.camera_position = 'xz'\n",
    "#pl.camera.zoom(1.2)\n",
    "pl.add_point_labels(mesh.points, mesh.points)\n",
    "pl.show_axes()\n",
    "pl.show()\n",
    "\n",
    "mesh.points, np.amin(mesh.points)"
   ]
  },
  {
   "cell_type": "code",
   "execution_count": null,
   "id": "ab77c5fb-e2eb-43f2-9849-330122db975d",
   "metadata": {},
   "outputs": [],
   "source": []
  },
  {
   "cell_type": "code",
   "execution_count": null,
   "id": "c06a0935-8d45-47e2-b102-d3eb41407c05",
   "metadata": {},
   "outputs": [],
   "source": [
    "#cloud = mesh.points\n",
    "\n",
    "volume = mesh.delaunay_3d(tol=5, alpha=10)\n",
    "shell = volume.extract_geometry()\n",
    "shell.plot(show_edges=True)"
   ]
  }
 ],
 "metadata": {
  "kernelspec": {
   "display_name": "Python 3 (ipykernel)",
   "language": "python",
   "name": "python3"
  },
  "language_info": {
   "codemirror_mode": {
    "name": "ipython",
    "version": 3
   },
   "file_extension": ".py",
   "mimetype": "text/x-python",
   "name": "python",
   "nbconvert_exporter": "python",
   "pygments_lexer": "ipython3",
   "version": "3.9.13"
  }
 },
 "nbformat": 4,
 "nbformat_minor": 5
}
