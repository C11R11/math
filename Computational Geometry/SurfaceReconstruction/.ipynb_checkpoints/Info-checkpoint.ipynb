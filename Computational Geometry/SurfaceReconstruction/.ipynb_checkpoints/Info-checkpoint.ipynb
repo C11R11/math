{
 "cells": [
  {
   "cell_type": "markdown",
   "id": "a62705d5-8056-430e-bfeb-73af588c9356",
   "metadata": {},
   "source": [
    "# 3d mesh from unorganized point cloud \n",
    "\n",
    "https://stackoverflow.com/questions/56686838/point-cloud-triangulation-using-marching-cubes-in-python-3/60690334#6069033\n",
    "\n",
    "\n",
    "https://towardsdatascience.com/5-step-guide-to-generate-3d-meshes-from-point-clouds-with-python-36bad397d8ba\n",
    "\n"
   ]
  },
  {
   "cell_type": "code",
   "execution_count": null,
   "id": "ad64d050-7c01-42b7-b36b-ad5d8ea7f55d",
   "metadata": {},
   "outputs": [],
   "source": []
  },
  {
   "cell_type": "code",
   "execution_count": null,
   "id": "8abcbafa-b780-4539-ab2b-d4b02b0faabe",
   "metadata": {},
   "outputs": [],
   "source": []
  },
  {
   "cell_type": "code",
   "execution_count": null,
   "id": "a274a58a-51cd-4d69-8e26-074c088c1ac0",
   "metadata": {},
   "outputs": [],
   "source": []
  },
  {
   "cell_type": "code",
   "execution_count": null,
   "id": "397bdb26-80c9-4b88-a8a4-10d2a0de572c",
   "metadata": {},
   "outputs": [],
   "source": []
  }
 ],
 "metadata": {
  "kernelspec": {
   "display_name": "Python 3 (ipykernel)",
   "language": "python",
   "name": "python3"
  },
  "language_info": {
   "codemirror_mode": {
    "name": "ipython",
    "version": 3
   },
   "file_extension": ".py",
   "mimetype": "text/x-python",
   "name": "python",
   "nbconvert_exporter": "python",
   "pygments_lexer": "ipython3",
   "version": "3.9.13"
  }
 },
 "nbformat": 4,
 "nbformat_minor": 5
}
