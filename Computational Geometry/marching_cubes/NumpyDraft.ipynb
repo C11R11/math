{
 "cells": [
  {
   "cell_type": "markdown",
   "id": "08becd76-7ab4-4fbd-809c-9b60c5567466",
   "metadata": {},
   "source": [
    "# Info\n",
    "\n",
    "NumPy Tutorial (2022): For Physicists, Engineers, and Mathematicians\n",
    "https://www.youtube.com/watch?v=DcfYgePyedM\n",
    "\n",
    "https://pythonguides.com/convert-pandas-dataframe-to-numpy-array/\n",
    "\n",
    "Introduction to Numerical Computing with NumPy | SciPy 2019 Tutorial | Alex Chabot-Leclerc https://www.youtube.com/watch?v=ZB7BZMhfPgk"
   ]
  },
  {
   "cell_type": "code",
   "execution_count": null,
   "id": "d79d7e96",
   "metadata": {},
   "outputs": [],
   "source": [
    "import open3d as o3d\n",
    "import numpy as np\n",
    "np.set_printoptions(precision=4)\n",
    "import matplotlib.pyplot as plt\n",
    "from skimage import measure"
   ]
  },
  {
   "cell_type": "code",
   "execution_count": null,
   "id": "9556f702-50c9-4de4-b248-dc6c9f3d0944",
   "metadata": {},
   "outputs": [],
   "source": []
  },
  {
   "cell_type": "code",
   "execution_count": null,
   "id": "c5ea37b2",
   "metadata": {},
   "outputs": [],
   "source": [
    "m = o3d.geometry.TriangleMesh.create_sphere(radius=1.0, resolution=10)"
   ]
  },
  {
   "cell_type": "code",
   "execution_count": null,
   "id": "21c09d26",
   "metadata": {},
   "outputs": [],
   "source": [
    "m"
   ]
  },
  {
   "cell_type": "code",
   "execution_count": null,
   "id": "47692300",
   "metadata": {},
   "outputs": [],
   "source": [
    "verts = np.asarray(m.vertices)\n",
    "\n",
    "fig = plt.figure()\n",
    "ax = fig.add_subplot(111, projection='3d')\n",
    "plt.plot(verts[:,0], verts[:,1], verts[:,2], \"o\",  alpha=1)\n",
    "plt.show()"
   ]
  },
  {
   "cell_type": "code",
   "execution_count": null,
   "id": "127deb65",
   "metadata": {},
   "outputs": [],
   "source": [
    "verts, verts.shape, verts.ndim"
   ]
  },
  {
   "cell_type": "code",
   "execution_count": null,
   "id": "4241038a",
   "metadata": {},
   "outputs": [],
   "source": [
    "x = verts.reshape(2,-1,3)"
   ]
  },
  {
   "cell_type": "code",
   "execution_count": null,
   "id": "cfabc6f6",
   "metadata": {},
   "outputs": [],
   "source": [
    "x.shape, x.ndim"
   ]
  },
  {
   "cell_type": "code",
   "execution_count": null,
   "id": "ac445b53",
   "metadata": {},
   "outputs": [],
   "source": [
    "x"
   ]
  },
  {
   "cell_type": "code",
   "execution_count": null,
   "id": "053dbded",
   "metadata": {},
   "outputs": [],
   "source": [
    "verts, faces, normals, values = measure.marching_cubes(x, 0)"
   ]
  },
  {
   "cell_type": "code",
   "execution_count": null,
   "id": "7edb29bc",
   "metadata": {},
   "outputs": [],
   "source": [
    "verts, verts.shape, verts.ndim"
   ]
  },
  {
   "cell_type": "code",
   "execution_count": null,
   "id": "a7f7fa61",
   "metadata": {},
   "outputs": [],
   "source": [
    "fig = plt.figure()\n",
    "ax = fig.add_subplot(111, projection='3d')\n",
    "plt.plot(verts[:,0], verts[:,1], verts[:,2], \"o\",  alpha=1)\n",
    "plt.show()"
   ]
  },
  {
   "cell_type": "code",
   "execution_count": null,
   "id": "ee1d4fd8",
   "metadata": {},
   "outputs": [],
   "source": [
    "x, y, z = np.mgrid[verts[:,0],\n",
    "                       verts[:,1],\n",
    "                       verts[:,2]]"
   ]
  },
  {
   "cell_type": "code",
   "execution_count": null,
   "id": "8cd556ea",
   "metadata": {},
   "outputs": [],
   "source": [
    "import mcubes\n",
    "mcubes.export_obj(verts, faces, 'mesh.obj')"
   ]
  },
  {
   "cell_type": "code",
   "execution_count": null,
   "id": "93e3c98b",
   "metadata": {},
   "outputs": [],
   "source": [
    "mesh = o3d.io.read_triangle_mesh(\"mesh.obj\")\n",
    "o3d.visualization.draw_geometries([mesh])"
   ]
  },
  {
   "cell_type": "code",
   "execution_count": null,
   "id": "e86837d6",
   "metadata": {},
   "outputs": [],
   "source": []
  },
  {
   "cell_type": "code",
   "execution_count": null,
   "id": "7299884e-36c8-4e03-9fb4-59acc32efa40",
   "metadata": {},
   "outputs": [],
   "source": [
    "import numpy as np\n",
    "import matplotlib.pyplot as plt"
   ]
  },
  {
   "cell_type": "code",
   "execution_count": null,
   "id": "6649f32e",
   "metadata": {},
   "outputs": [],
   "source": [
    "x = np.linspace(0,4,5)\n",
    "y = np.linspace(6,10,5)\n",
    "z = np.linspace(0,1,10)"
   ]
  },
  {
   "cell_type": "code",
   "execution_count": null,
   "id": "2bfd19b4-bab9-42f5-b6a0-40c35f2598b4",
   "metadata": {},
   "outputs": [],
   "source": [
    "xv, yv = np.meshgrid(x,y)"
   ]
  },
  {
   "cell_type": "code",
   "execution_count": null,
   "id": "b53dc2c2",
   "metadata": {},
   "outputs": [],
   "source": [
    "xv, yv , zv= np.meshgrid(x,y,z)"
   ]
  },
  {
   "cell_type": "code",
   "execution_count": null,
   "id": "e654bc24-242f-4895-8ed0-7bb292336cac",
   "metadata": {},
   "outputs": [],
   "source": [
    "xv, yv"
   ]
  },
  {
   "cell_type": "code",
   "execution_count": null,
   "id": "5212b98d-8608-4389-a0f8-935d7c542f27",
   "metadata": {},
   "outputs": [],
   "source": [
    "#zv = xv**2 + yv*2\n",
    "zv = xv**0 + yv*0"
   ]
  },
  {
   "cell_type": "code",
   "execution_count": null,
   "id": "376de84b-1e47-497c-80db-6d7762318341",
   "metadata": {},
   "outputs": [],
   "source": [
    "zv"
   ]
  },
  {
   "cell_type": "code",
   "execution_count": null,
   "id": "433a524a-23b9-49ee-88b8-eac8914b09b2",
   "metadata": {},
   "outputs": [],
   "source": [
    "plt.contourf(xv,yv,zv,levels=20)"
   ]
  },
  {
   "cell_type": "code",
   "execution_count": null,
   "id": "6be38c39-d809-4101-afd4-172e2b69e8e6",
   "metadata": {},
   "outputs": [],
   "source": [
    "fig = plt.figure()\n",
    "ax = plt.axes(projection='3d')\n",
    "ax.plot_surface(xv,yv,zv, cmap=\"plasma\", linewidth=0, antialiased=False, alpha=0.5)\n",
    "ax.set_xlabel('x')\n",
    "ax.set_ylabel('y')\n",
    "ax.set_zlabel('z');\n",
    "# rotation\n",
    "ax.view_init(45,70)\n",
    "plt.show()"
   ]
  },
  {
   "cell_type": "code",
   "execution_count": null,
   "id": "ad5b6763-2bd9-455f-b657-f642e6afecfc",
   "metadata": {},
   "outputs": [],
   "source": [
    "import plotly.graph_objects as go\n",
    "import numpy as np\n",
    "\n",
    "y = np.linspace(1,90,90)\n",
    "#y = np.zeros([15,6])\n",
    "\n",
    "z1 = np.array([\n",
    "    [8.83,8.89,8.81,8.87,8.9,8.87],\n",
    "    [8.89,8.94,8.85,8.94,8.96,8.92],\n",
    "    [8.84,8.9,8.82,8.92,8.93,8.91],\n",
    "    [8.79,8.85,8.79,8.9,8.94,8.92],\n",
    "    [8.79,8.88,8.81,8.9,8.95,8.92],\n",
    "    [8.8,8.82,8.78,8.91,8.94,8.92],\n",
    "    [8.75,8.78,8.77,8.91,8.95,8.92],\n",
    "    [8.8,8.8,8.77,8.91,8.95,8.94],\n",
    "    [8.74,8.81,8.76,8.93,8.98,8.99],\n",
    "    [8.89,8.99,8.92,9.1,9.13,9.11],\n",
    "    [8.97,8.97,8.91,9.09,9.11,9.11],\n",
    "    [9.04,9.08,9.05,9.25,9.28,9.27],\n",
    "    [9,9.01,9,9.2,9.23,9.2],\n",
    "    [8.99,8.99,8.98,9.18,9.2,9.19],\n",
    "    [8.93,8.97,8.97,9.18,9.2,9.18]\n",
    "])\n",
    "\n"
   ]
  },
  {
   "cell_type": "code",
   "execution_count": null,
   "id": "b46766c5-a25b-4ea0-8da1-df5042be09de",
   "metadata": {},
   "outputs": [],
   "source": [
    "z1.shape, z1.size, z1.ndim"
   ]
  },
  {
   "cell_type": "code",
   "execution_count": null,
   "id": "def3fb53-9520-43d3-ae06-288b9ce5a7bb",
   "metadata": {},
   "outputs": [],
   "source": [
    "yv = "
   ]
  },
  {
   "cell_type": "code",
   "execution_count": null,
   "id": "58f9935a-b092-44ce-bba0-40c411f67845",
   "metadata": {},
   "outputs": [],
   "source": [
    "fig = go.Figure(data=[\n",
    "    go.Surface(z=z1, y=y)\n",
    "])\n",
    "\n",
    "fig.show()"
   ]
  },
  {
   "cell_type": "code",
   "execution_count": null,
   "id": "7dc50674-eb0b-44cb-be9f-0959c67fce48",
   "metadata": {},
   "outputs": [],
   "source": []
  },
  {
   "cell_type": "code",
   "execution_count": null,
   "id": "62cbf19e-ce78-44f8-b640-54818552c29b",
   "metadata": {},
   "outputs": [],
   "source": []
  },
  {
   "cell_type": "code",
   "execution_count": null,
   "id": "611b8239",
   "metadata": {},
   "outputs": [],
   "source": [
    "xv"
   ]
  },
  {
   "cell_type": "code",
   "execution_count": null,
   "id": "197edfc0",
   "metadata": {},
   "outputs": [],
   "source": [
    "yv"
   ]
  },
  {
   "cell_type": "code",
   "execution_count": null,
   "id": "55716c01-1973-4887-99e1-c8b558d04b6f",
   "metadata": {},
   "outputs": [],
   "source": [
    "#zv = np.log(xv+yv)\n",
    "plt.contourf(xv,yv,zv, levels=30)\n",
    "plt.colorbar()"
   ]
  },
  {
   "cell_type": "code",
   "execution_count": null,
   "id": "fe19fc03-55d1-41b4-a89a-c4f7fee4fec5",
   "metadata": {},
   "outputs": [],
   "source": []
  },
  {
   "cell_type": "code",
   "execution_count": null,
   "id": "3a71e9ef-d0ed-42f4-9335-cde9ad0005f2",
   "metadata": {},
   "outputs": [],
   "source": []
  },
  {
   "cell_type": "code",
   "execution_count": null,
   "id": "2326bd50",
   "metadata": {},
   "outputs": [],
   "source": [
    "import numpy as np\n",
    "import matplotlib.pyplot as plt\n",
    "from mpl_toolkits.mplot3d.art3d import Poly3DCollection\n",
    "\n",
    "from skimage import measure\n",
    "from skimage.draw import ellipsoid\n",
    "\n",
    "\n",
    "# Generate a level set about zero of two identical ellipsoids in 3D\n",
    "ellip_base = ellipsoid(6, 10, 16, levelset=True)\n",
    "\n"
   ]
  },
  {
   "cell_type": "code",
   "execution_count": null,
   "id": "64f93bbc",
   "metadata": {},
   "outputs": [],
   "source": [
    "ellip_base, ellip_base.shape, ellip_base.ndim"
   ]
  },
  {
   "cell_type": "code",
   "execution_count": null,
   "id": "2c3a93b1",
   "metadata": {},
   "outputs": [],
   "source": [
    "# Use marching cubes to obtain the surface mesh of these ellipsoids\n",
    "verts, faces, normals, values = measure.marching_cubes(ellip_double, 0)"
   ]
  },
  {
   "cell_type": "code",
   "execution_count": null,
   "id": "f7565103",
   "metadata": {},
   "outputs": [],
   "source": []
  },
  {
   "cell_type": "code",
   "execution_count": null,
   "id": "a7f29557",
   "metadata": {},
   "outputs": [],
   "source": [
    "X = np.linspace(1,4,4)"
   ]
  },
  {
   "cell_type": "code",
   "execution_count": null,
   "id": "c3e266a3",
   "metadata": {},
   "outputs": [],
   "source": [
    "x"
   ]
  },
  {
   "cell_type": "code",
   "execution_count": null,
   "id": "b605be08-6d9a-46db-a3e1-182e407f4cd5",
   "metadata": {},
   "outputs": [],
   "source": [
    "import numpy as np"
   ]
  },
  {
   "cell_type": "code",
   "execution_count": null,
   "id": "c1a92d04-9a1d-43c0-bb4e-bb2b243148d0",
   "metadata": {},
   "outputs": [],
   "source": [
    "import numpy as np\n",
    "jugadores = np.ones(10)*2500"
   ]
  },
  {
   "cell_type": "code",
   "execution_count": null,
   "id": "c5d8ca29-0bb6-44ca-b466-dbdb45b8c65c",
   "metadata": {},
   "outputs": [],
   "source": [
    "jugadores"
   ]
  },
  {
   "cell_type": "code",
   "execution_count": null,
   "id": "d750d5c6-8e58-4e62-9851-729dff0f8ad4",
   "metadata": {},
   "outputs": [],
   "source": [
    "65000/2 - jugadores.sum()"
   ]
  },
  {
   "cell_type": "code",
   "execution_count": null,
   "id": "233810b1-1ed7-4d6d-909f-def11490123e",
   "metadata": {},
   "outputs": [],
   "source": [
    "import numpy as np\n",
    " \n",
    "# array = geek.arrange(8)\n",
    "# The 'numpy' module has no attribute 'arrange'\n",
    "array1 = geek.arange(8)\n",
    "print(\"Original array : \\n\", array1)\n",
    " \n",
    "# shape array with 2 rows and 4 columns\n",
    "array2 = geek.arange(8).reshape(2, 4)\n",
    "print(\"\\narray reshaped with 2 rows and 4 columns : \\n\",\n",
    "      array2)\n",
    " \n",
    "# shape array with 4 rows and 2 columns\n",
    "array3 = geek.arange(8).reshape(4, 2)\n",
    "print(\"\\narray reshaped with 4 rows and 2 columns : \\n\",\n",
    "      array3, array3.shape, array3.ndim)\n",
    " \n",
    "# Constructs 3D array\n",
    "array4 = geek.arange(9).reshape(3, 1, 3)\n",
    "print(\"\\nOriginal array reshaped to 3D : \\n\",\n",
    "      array4, array4.shape, array4.ndim)"
   ]
  },
  {
   "cell_type": "code",
   "execution_count": null,
   "id": "ab6f5629-eeaf-4627-bfc7-f96d4beb5a4d",
   "metadata": {},
   "outputs": [],
   "source": [
    "n = np.mgrid[10:15, 10:15]"
   ]
  },
  {
   "cell_type": "code",
   "execution_count": null,
   "id": "ddab73e5-9eb3-4f34-808c-32b5a44be7b4",
   "metadata": {},
   "outputs": [],
   "source": [
    "n.size, n.shape, n.ndim"
   ]
  },
  {
   "cell_type": "code",
   "execution_count": null,
   "id": "571b44b9-3ea5-4d26-855b-64f357e616ed",
   "metadata": {},
   "outputs": [],
   "source": [
    "n"
   ]
  },
  {
   "cell_type": "markdown",
   "id": "1a9b91ee-c856-41bf-bb6e-34d0091ed04d",
   "metadata": {},
   "source": [
    "# NPZ files"
   ]
  },
  {
   "cell_type": "code",
   "execution_count": null,
   "id": "e278151a-d2fd-4030-aff4-82d35f77983a",
   "metadata": {},
   "outputs": [],
   "source": [
    "from numpy import load\n",
    "# load dict of arrays\n",
    "dict_data = load('mnist.npz')\n"
   ]
  },
  {
   "cell_type": "code",
   "execution_count": null,
   "id": "0617706e-650e-42e7-8db7-82667f4f0abb",
   "metadata": {},
   "outputs": [],
   "source": [
    "for k in dict_data.files:\n",
    "    print(k)"
   ]
  },
  {
   "cell_type": "code",
   "execution_count": null,
   "id": "44321ed4-3994-4f7a-b216-a0c6640e42fc",
   "metadata": {},
   "outputs": [],
   "source": [
    "# extract the first array\n",
    "data = dict_data['arr_0']\n",
    "# print the array\n",
    "print(data)"
   ]
  },
  {
   "cell_type": "code",
   "execution_count": null,
   "id": "6c9d35cb-e1f2-46d2-b0a2-55e44b58dc61",
   "metadata": {},
   "outputs": [],
   "source": [
    "b = geek.load('x_train.npy')"
   ]
  },
  {
   "cell_type": "code",
   "execution_count": null,
   "id": "9514d4fa-97aa-48ae-95a9-202d16c7c824",
   "metadata": {},
   "outputs": [],
   "source": [
    "b"
   ]
  },
  {
   "cell_type": "code",
   "execution_count": null,
   "id": "2fcb8a92-d814-4e80-8d16-3e49979e5b4e",
   "metadata": {},
   "outputs": [],
   "source": []
  },
  {
   "cell_type": "markdown",
   "id": "401ac431-ab5a-48e6-84c6-c47a030f06a5",
   "metadata": {},
   "source": [
    "# 3d cube "
   ]
  },
  {
   "cell_type": "code",
   "execution_count": null,
   "id": "0f5889a6-5cea-4f87-af7d-82dfb42c0cdf",
   "metadata": {},
   "outputs": [],
   "source": [
    "from numpy import arange, meshgrid\n",
    "\n",
    "x = arange(7)\n",
    "y = arange(0,30,10)\n",
    "z = arange(0,200,100)\n",
    "ym, zm, xm = meshgrid(y, z, x)\n",
    "cube = xm + ym + zm\n",
    "\n",
    "var = xm\n",
    "\n",
    "print(var.shape, var.ndim, var.size, var)\n",
    "\n",
    "print(cube.shape, cube.size, cube.ndim, cube)"
   ]
  },
  {
   "cell_type": "code",
   "execution_count": null,
   "id": "3fa528e1-db4e-4118-936e-3efb93ea88a2",
   "metadata": {},
   "outputs": [],
   "source": []
  },
  {
   "cell_type": "code",
   "execution_count": 2,
   "id": "ebb1cb9f-fda9-4ee9-8b87-94d9672d5ed7",
   "metadata": {},
   "outputs": [],
   "source": [
    "import numpy as np\n",
    "x = np.array((1,2,3))"
   ]
  },
  {
   "cell_type": "code",
   "execution_count": 4,
   "id": "c390882d-c15a-4359-90c0-71d195f7745f",
   "metadata": {},
   "outputs": [
    {
     "data": {
      "text/plain": [
       "((3,), numpy.ndarray, 1)"
      ]
     },
     "execution_count": 4,
     "metadata": {},
     "output_type": "execute_result"
    }
   ],
   "source": [
    "x.shape, type(x), x.ndim"
   ]
  },
  {
   "cell_type": "code",
   "execution_count": null,
   "id": "3215598e-ee23-4dea-958d-fa8732969b45",
   "metadata": {},
   "outputs": [],
   "source": []
  },
  {
   "cell_type": "code",
   "execution_count": null,
   "id": "52108a20-e2c4-4be4-a846-1f328840e750",
   "metadata": {},
   "outputs": [],
   "source": []
  },
  {
   "cell_type": "code",
   "execution_count": 5,
   "id": "688ec3b9-bc37-4aa0-b786-6782e3464a4e",
   "metadata": {},
   "outputs": [
    {
     "name": "stdout",
     "output_type": "stream",
     "text": [
      "xyz\n",
      "[[-3.         -3.          0.17846472]\n",
      " [-2.985      -3.          0.17440115]\n",
      " [-2.97       -3.          0.17063709]\n",
      " ...\n",
      " [ 2.97        3.          0.17063709]\n",
      " [ 2.985       3.          0.17440115]\n",
      " [ 3.          3.          0.17846472]]\n"
     ]
    }
   ],
   "source": [
    "# generate some neat n times 3 matrix using a variant of sync function\n",
    "x = np.linspace(-3, 3, 401)\n",
    "mesh_x, mesh_y = np.meshgrid(x, x)\n",
    "z = np.sinc((np.power(mesh_x, 2) + np.power(mesh_y, 2)))\n",
    "z_norm = (z - z.min()) / (z.max() - z.min())\n",
    "xyz = np.zeros((np.size(mesh_x), 3))\n",
    "xyz[:, 0] = np.reshape(mesh_x, -1)\n",
    "xyz[:, 1] = np.reshape(mesh_y, -1)\n",
    "xyz[:, 2] = np.reshape(z_norm, -1)\n",
    "print('xyz')\n",
    "print(xyz)"
   ]
  },
  {
   "cell_type": "code",
   "execution_count": 7,
   "id": "45e872e2-c6e3-4313-aa60-0957da6e917e",
   "metadata": {},
   "outputs": [
    {
     "data": {
      "text/plain": [
       "((401, 401),\n",
       " 2,\n",
       " 160801,\n",
       " array([[-3.   , -2.985, -2.97 , ...,  2.97 ,  2.985,  3.   ],\n",
       "        [-3.   , -2.985, -2.97 , ...,  2.97 ,  2.985,  3.   ],\n",
       "        [-3.   , -2.985, -2.97 , ...,  2.97 ,  2.985,  3.   ],\n",
       "        ...,\n",
       "        [-3.   , -2.985, -2.97 , ...,  2.97 ,  2.985,  3.   ],\n",
       "        [-3.   , -2.985, -2.97 , ...,  2.97 ,  2.985,  3.   ],\n",
       "        [-3.   , -2.985, -2.97 , ...,  2.97 ,  2.985,  3.   ]]))"
      ]
     },
     "execution_count": 7,
     "metadata": {},
     "output_type": "execute_result"
    }
   ],
   "source": [
    "mesh_x.shape, mesh_x.ndim, mesh_x.size, mesh_x"
   ]
  },
  {
   "cell_type": "code",
   "execution_count": 8,
   "id": "36b95dc6-ff77-4762-98fa-0ab97987cc8b",
   "metadata": {},
   "outputs": [
    {
     "data": {
      "text/plain": [
       "((401, 401),\n",
       " 2,\n",
       " 160801,\n",
       " array([[-3.   , -2.985, -2.97 , ...,  2.97 ,  2.985,  3.   ],\n",
       "        [-3.   , -2.985, -2.97 , ...,  2.97 ,  2.985,  3.   ],\n",
       "        [-3.   , -2.985, -2.97 , ...,  2.97 ,  2.985,  3.   ],\n",
       "        ...,\n",
       "        [-3.   , -2.985, -2.97 , ...,  2.97 ,  2.985,  3.   ],\n",
       "        [-3.   , -2.985, -2.97 , ...,  2.97 ,  2.985,  3.   ],\n",
       "        [-3.   , -2.985, -2.97 , ...,  2.97 ,  2.985,  3.   ]]))"
      ]
     },
     "execution_count": 8,
     "metadata": {},
     "output_type": "execute_result"
    }
   ],
   "source": [
    "mesh_x.shape, mesh_x.ndim, mesh_x.size, mesh_x"
   ]
  },
  {
   "cell_type": "code",
   "execution_count": null,
   "id": "348c2fdd-5513-431d-bed6-856bf353e089",
   "metadata": {},
   "outputs": [],
   "source": []
  }
 ],
 "metadata": {
  "kernelspec": {
   "display_name": "Python 3 (ipykernel)",
   "language": "python",
   "name": "python3"
  },
  "language_info": {
   "codemirror_mode": {
    "name": "ipython",
    "version": 3
   },
   "file_extension": ".py",
   "mimetype": "text/x-python",
   "name": "python",
   "nbconvert_exporter": "python",
   "pygments_lexer": "ipython3",
   "version": "3.9.13"
  }
 },
 "nbformat": 4,
 "nbformat_minor": 5
}
