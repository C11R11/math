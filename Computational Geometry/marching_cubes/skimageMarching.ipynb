{
 "cells": [
  {
   "cell_type": "code",
   "execution_count": 31,
   "id": "04afeb0d",
   "metadata": {},
   "outputs": [
    {
     "name": "stdout",
     "output_type": "stream",
     "text": [
      "<class 'numpy.ndarray'> (15, 23, 35) 3 12075 [[[2.70001736 2.57111111 2.45001736 ... 2.45001736 2.57111111 2.70001736]\n",
      "  [2.49001736 2.36111111 2.24001736 ... 2.24001736 2.36111111 2.49001736]\n",
      "  [2.30001736 2.17111111 2.05001736 ... 2.05001736 2.17111111 2.30001736]\n",
      "  ...\n",
      "  [2.30001736 2.17111111 2.05001736 ... 2.05001736 2.17111111 2.30001736]\n",
      "  [2.49001736 2.36111111 2.24001736 ... 2.24001736 2.36111111 2.49001736]\n",
      "  [2.70001736 2.57111111 2.45001736 ... 2.45001736 2.57111111 2.70001736]]\n",
      "\n",
      " [[2.33890625 2.21       2.08890625 ... 2.08890625 2.21       2.33890625]\n",
      "  [2.12890625 2.         1.87890625 ... 1.87890625 2.         2.12890625]\n",
      "  [1.93890625 1.81       1.68890625 ... 1.68890625 1.81       1.93890625]\n",
      "  ...\n",
      "  [1.93890625 1.81       1.68890625 ... 1.68890625 1.81       1.93890625]\n",
      "  [2.12890625 2.         1.87890625 ... 1.87890625 2.         2.12890625]\n",
      "  [2.33890625 2.21       2.08890625 ... 2.08890625 2.21       2.33890625]]\n",
      "\n",
      " [[2.03335069 1.90444444 1.78335069 ... 1.78335069 1.90444444 2.03335069]\n",
      "  [1.82335069 1.69444444 1.57335069 ... 1.57335069 1.69444444 1.82335069]\n",
      "  [1.63335069 1.50444444 1.38335069 ... 1.38335069 1.50444444 1.63335069]\n",
      "  ...\n",
      "  [1.63335069 1.50444444 1.38335069 ... 1.38335069 1.50444444 1.63335069]\n",
      "  [1.82335069 1.69444444 1.57335069 ... 1.57335069 1.69444444 1.82335069]\n",
      "  [2.03335069 1.90444444 1.78335069 ... 1.78335069 1.90444444 2.03335069]]\n",
      "\n",
      " ...\n",
      "\n",
      " [[2.03335069 1.90444444 1.78335069 ... 1.78335069 1.90444444 2.03335069]\n",
      "  [1.82335069 1.69444444 1.57335069 ... 1.57335069 1.69444444 1.82335069]\n",
      "  [1.63335069 1.50444444 1.38335069 ... 1.38335069 1.50444444 1.63335069]\n",
      "  ...\n",
      "  [1.63335069 1.50444444 1.38335069 ... 1.38335069 1.50444444 1.63335069]\n",
      "  [1.82335069 1.69444444 1.57335069 ... 1.57335069 1.69444444 1.82335069]\n",
      "  [2.03335069 1.90444444 1.78335069 ... 1.78335069 1.90444444 2.03335069]]\n",
      "\n",
      " [[2.33890625 2.21       2.08890625 ... 2.08890625 2.21       2.33890625]\n",
      "  [2.12890625 2.         1.87890625 ... 1.87890625 2.         2.12890625]\n",
      "  [1.93890625 1.81       1.68890625 ... 1.68890625 1.81       1.93890625]\n",
      "  ...\n",
      "  [1.93890625 1.81       1.68890625 ... 1.68890625 1.81       1.93890625]\n",
      "  [2.12890625 2.         1.87890625 ... 1.87890625 2.         2.12890625]\n",
      "  [2.33890625 2.21       2.08890625 ... 2.08890625 2.21       2.33890625]]\n",
      "\n",
      " [[2.70001736 2.57111111 2.45001736 ... 2.45001736 2.57111111 2.70001736]\n",
      "  [2.49001736 2.36111111 2.24001736 ... 2.24001736 2.36111111 2.49001736]\n",
      "  [2.30001736 2.17111111 2.05001736 ... 2.05001736 2.17111111 2.30001736]\n",
      "  ...\n",
      "  [2.30001736 2.17111111 2.05001736 ... 2.05001736 2.17111111 2.30001736]\n",
      "  [2.49001736 2.36111111 2.24001736 ... 2.24001736 2.36111111 2.49001736]\n",
      "  [2.70001736 2.57111111 2.45001736 ... 2.45001736 2.57111111 2.70001736]]]\n"
     ]
    },
    {
     "ename": "AttributeError",
     "evalue": "module 'skimage.measure' has no attribute 'marching_cubes_classic'",
     "output_type": "error",
     "traceback": [
      "\u001b[1;31m---------------------------------------------------------------------------\u001b[0m",
      "\u001b[1;31mAttributeError\u001b[0m                            Traceback (most recent call last)",
      "\u001b[1;32m~\\AppData\\Local\\Temp\\ipykernel_22404\\3023387510.py\u001b[0m in \u001b[0;36m<module>\u001b[1;34m\u001b[0m\n\u001b[0;32m     21\u001b[0m \u001b[1;33m\u001b[0m\u001b[0m\n\u001b[0;32m     22\u001b[0m \u001b[1;31m# Use marching cubes to obtain the surface mesh of these ellipsoids\u001b[0m\u001b[1;33m\u001b[0m\u001b[1;33m\u001b[0m\u001b[0m\n\u001b[1;32m---> 23\u001b[1;33m \u001b[0mverts\u001b[0m\u001b[1;33m,\u001b[0m \u001b[0mfaces\u001b[0m\u001b[1;33m,\u001b[0m \u001b[0mnormals\u001b[0m\u001b[1;33m,\u001b[0m \u001b[0mvalues\u001b[0m \u001b[1;33m=\u001b[0m \u001b[0mmeasure\u001b[0m\u001b[1;33m.\u001b[0m\u001b[0mmarching_cubes_classic\u001b[0m\u001b[1;33m(\u001b[0m\u001b[0mellip_double\u001b[0m\u001b[1;33m,\u001b[0m \u001b[1;36m0\u001b[0m\u001b[1;33m)\u001b[0m\u001b[1;33m\u001b[0m\u001b[1;33m\u001b[0m\u001b[0m\n\u001b[0m\u001b[0;32m     24\u001b[0m \u001b[1;33m\u001b[0m\u001b[0m\n\u001b[0;32m     25\u001b[0m \u001b[1;31m# Display resulting triangular mesh using Matplotlib. This can also be done\u001b[0m\u001b[1;33m\u001b[0m\u001b[1;33m\u001b[0m\u001b[0m\n",
      "\u001b[1;31mAttributeError\u001b[0m: module 'skimage.measure' has no attribute 'marching_cubes_classic'"
     ]
    }
   ],
   "source": [
    "import numpy as np\n",
    "import matplotlib.pyplot as plt\n",
    "from mpl_toolkits.mplot3d.art3d import Poly3DCollection\n",
    "\n",
    "from skimage import measure\n",
    "from skimage.draw import ellipsoid\n",
    "\n",
    "\n",
    "# Generate a level set about zero of two identical ellipsoids in 3D\n",
    "ellip_base = ellipsoid(6, 10, 16, levelset=True)\n",
    "ellip_double = np.concatenate((ellip_base[:-1, ...],\n",
    "                               ellip_base[2:, ...]), axis=0)\n",
    "\n",
    "print(type(ellip_base), ellip_base.shape, ellip_base.ndim, ellip_base.size, ellip_base)\n",
    "\n",
    "#X, Y, Z = np.mgrid[:20, :20, :20]\n",
    "#u = (X-10)**2 + (Y-10)**2 + (Z-10)**2 - 8**2\n",
    "\n",
    "# Use marching cubes to obtain the surface mesh of these ellipsoids\n",
    "#verts, faces, normals, values = measure.marching_cubes(u, 0)\n",
    "\n",
    "# Use marching cubes to obtain the surface mesh of these ellipsoids\n",
    "verts, faces, normals, values = measure.marching_cubes_classic(ellip_double, 0)\n",
    "\n",
    "# Display resulting triangular mesh using Matplotlib. This can also be done\n",
    "# with mayavi (see skimage.measure.marching_cubes docstring).\n",
    "fig = plt.figure(figsize=(10, 10))\n",
    "ax = fig.add_subplot(111, projection='3d')\n",
    "\n",
    "# Fancy indexing: `verts[faces]` to generate a collection of triangles\n",
    "mesh = Poly3DCollection(verts[faces])\n",
    "mesh.set_edgecolor('k')\n",
    "ax.add_collection3d(mesh)\n",
    "\n",
    "ax.set_xlabel(\"x-axis: a = 6 per ellipsoid\")\n",
    "ax.set_ylabel(\"y-axis: b = 10\")\n",
    "ax.set_zlabel(\"z-axis: c = 16\")\n",
    "\n",
    "ax.set_xlim(0, X.shape[0])  # a = 6 (times two for 2nd ellipsoid)\n",
    "ax.set_ylim(0, X.shape[1])  # b = 10\n",
    "ax.set_zlim(0, X.shape[2])  # c = 16\n",
    "\n",
    "plt.tight_layout()\n",
    "plt.show()"
   ]
  },
  {
   "cell_type": "code",
   "execution_count": 8,
   "id": "5c564cae",
   "metadata": {},
   "outputs": [
    {
     "data": {
      "text/plain": [
       "(15, 23, 35)"
      ]
     },
     "execution_count": 8,
     "metadata": {},
     "output_type": "execute_result"
    }
   ],
   "source": [
    "ellip_base.shape"
   ]
  },
  {
   "cell_type": "code",
   "execution_count": 21,
   "id": "e16e4270-8564-48b5-a409-6dd009ae6a33",
   "metadata": {},
   "outputs": [
    {
     "data": {
      "text/plain": [
       "(14, 23, 35)"
      ]
     },
     "execution_count": 21,
     "metadata": {},
     "output_type": "execute_result"
    }
   ],
   "source": [
    "ellip_base[:-1, ...].shape"
   ]
  },
  {
   "cell_type": "code",
   "execution_count": 22,
   "id": "47f91e32",
   "metadata": {},
   "outputs": [
    {
     "data": {
      "text/plain": [
       "(13, 23, 35)"
      ]
     },
     "execution_count": 22,
     "metadata": {},
     "output_type": "execute_result"
    }
   ],
   "source": [
    "ellip_base[2:, ...].shape"
   ]
  },
  {
   "cell_type": "code",
   "execution_count": 26,
   "id": "c987249f-4fa1-455e-bff7-81f1d610e97f",
   "metadata": {},
   "outputs": [
    {
     "data": {
      "text/plain": [
       "(27, 23, 35)"
      ]
     },
     "execution_count": 27,
     "metadata": {},
     "output_type": "execute_result"
    }
   ],
   "source": [
    "np.concatenate((ellip_base[:-1, ...],\n",
    "                               ellip_base[2:, ...]), axis=0).shape"
   ]
  }
 ],
 "metadata": {
  "kernelspec": {
   "display_name": "Python 3 (ipykernel)",
   "language": "python",
   "name": "python3"
  },
  "language_info": {
   "codemirror_mode": {
    "name": "ipython",
    "version": 3
   },
   "file_extension": ".py",
   "mimetype": "text/x-python",
   "name": "python",
   "nbconvert_exporter": "python",
   "pygments_lexer": "ipython3",
   "version": "3.9.13"
  }
 },
 "nbformat": 4,
 "nbformat_minor": 5
}
