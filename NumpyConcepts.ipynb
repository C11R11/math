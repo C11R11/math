{
 "cells": [
  {
   "cell_type": "markdown",
   "id": "bcc440a1-f1a0-499e-8a43-4cb54c2f15fc",
   "metadata": {},
   "source": [
    "# Concepts"
   ]
  },
  {
   "cell_type": "markdown",
   "id": "2bd35920-2f44-4810-9a51-7fbf291dd35f",
   "metadata": {},
   "source": [
    "## The None (newaxis)\n",
    "\n",
    "https://numpy.org/doc/stable/reference/constants.html#numpy.newaxis"
   ]
  },
  {
   "cell_type": "code",
   "execution_count": 8,
   "id": "e3ee3781-a794-4ef6-a7b4-65370291e992",
   "metadata": {},
   "outputs": [
    {
     "name": "stdout",
     "output_type": "stream",
     "text": [
      "[0 1 2] (3,)\n",
      "[[0]\n",
      " [1]\n",
      " [2]] (3, 1)\n",
      "[[0 1 2]] (1, 3)\n",
      "[[[0 1 2]]] (1, 1, 3)\n",
      "[[[[0]\n",
      "   [1]\n",
      "   [2]]]] (1, 1, 3, 1)\n"
     ]
    }
   ],
   "source": [
    "import numpy as np \n",
    "\n",
    "x = np.arange(3)\n",
    "print(x, x.shape)\n",
    "\n",
    "a = x[:, np.newaxis]\n",
    "print(a, a.shape)\n",
    "\n",
    "b = x[None, :]\n",
    "print(b, b.shape)\n",
    "\n",
    "c = x[np.newaxis, np.newaxis, :]\n",
    "print(c, c.shape)\n",
    "\n",
    "d = x[None, np.newaxis, :, None]\n",
    "print(d, d.shape)"
   ]
  },
  {
   "cell_type": "markdown",
   "id": "df6b501f-0d3a-4d31-b97f-457672427bb7",
   "metadata": {},
   "source": [
    "## Broadcast\n",
    "\n",
    "* https://numpy.org/doc/stable//user/basics.broadcasting.html\n",
    "* https://juansensio.com/blog/008_numpy_aop\n",
    "\n",
    "### Compatibility\n",
    "\n",
    "Two dimensions are compatible when\n",
    "\n",
    "- they are equal, or\n",
    "- one of them is 1."
   ]
  },
  {
   "cell_type": "code",
   "execution_count": 17,
   "id": "042bd1f2-f814-48bc-b40f-ffae9e859fe0",
   "metadata": {},
   "outputs": [
    {
     "name": "stdout",
     "output_type": "stream",
     "text": [
      "[[1]] [2. 4. 6.] (1, 1) (3,) [[2. 4. 6.]] (1, 3)\n",
      "shapes-> [[1 2 3 4]] [[2.]\n",
      " [4.]\n",
      " [6.]] (1, 4) (3, 1)\n"
     ]
    },
    {
     "data": {
      "text/plain": [
       "(array([[ 2.,  4.,  6.,  8.],\n",
       "        [ 4.,  8., 12., 16.],\n",
       "        [ 6., 12., 18., 24.]]),\n",
       " (3, 4))"
      ]
     },
     "execution_count": 17,
     "metadata": {},
     "output_type": "execute_result"
    }
   ],
   "source": [
    "import numpy as np\n",
    "\n",
    "a = np.array([[1]])\n",
    "b = np.array([2.0, 4.0, 6.0])\n",
    "broad =  b * a\n",
    "print(a, b, a.shape, b.shape, broad, broad.shape)\n",
    "\n",
    "\n",
    "# Error operands could not be broadcast together with shapes (1,2) (3,)\n",
    "a = np.array([[1, 2]])\n",
    "b = np.array([2.0, 4.0, 6.0])\n",
    "#broad = a * b\n",
    "#a, b, a.shape, b.shape, broad, broad.shape\n",
    "\n",
    "a = np.array([[1, 2, 3, 4]])\n",
    "b = np.array([2.0, 4.0, 6.0]) # The broadcast will fail Error \"operands could not be broadcast together with shapes (1,4) (3,)\"\n",
    "# To fix we can add an index \n",
    "b = b[:, None]\n",
    "print(\"shapes->\", a, b, a.shape, b.shape)\n",
    "broad = a * b\n",
    "broad, broad.shape"
   ]
  },
  {
   "cell_type": "code",
   "execution_count": null,
   "id": "221c432f-d640-46d0-b57c-83d55bef84ed",
   "metadata": {},
   "outputs": [],
   "source": [
    "A = np.array([[0, 1, 2],\n",
    "             [3, 4, 5]])\n",
    "B = np.array([[100],\n",
    "       [200]])\n",
    "sum = A + B\n",
    "\n",
    "A,B, A.shape, B.shape, sum, sum.shape"
   ]
  },
  {
   "cell_type": "code",
   "execution_count": null,
   "id": "1a3b875b-abce-48da-a7b2-b7769f40cda5",
   "metadata": {},
   "outputs": [],
   "source": [
    "C = np.array([100, 200, 300])\n",
    "C.shape\n",
    "\n",
    "sum = A + C\n",
    "\n",
    "\n",
    "\n",
    "A,C, A.shape, C.shape, sum, sum.shape"
   ]
  }
 ],
 "metadata": {
  "kernelspec": {
   "display_name": "Python 3 (ipykernel)",
   "language": "python",
   "name": "python3"
  },
  "language_info": {
   "codemirror_mode": {
    "name": "ipython",
    "version": 3
   },
   "file_extension": ".py",
   "mimetype": "text/x-python",
   "name": "python",
   "nbconvert_exporter": "python",
   "pygments_lexer": "ipython3",
   "version": "3.9.6"
  }
 },
 "nbformat": 4,
 "nbformat_minor": 5
}
